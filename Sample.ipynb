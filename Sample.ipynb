{
  "nbformat": 4,
  "nbformat_minor": 0,
  "metadata": {
    "colab": {
      "provenance": [],
      "toc_visible": true,
      "authorship_tag": "ABX9TyNpRbabsYN+v8jhx4vRE+kZ",
      "include_colab_link": true
    },
    "kernelspec": {
      "name": "python3",
      "display_name": "Python 3"
    },
    "language_info": {
      "name": "python"
    }
  },
  "cells": [
    {
      "cell_type": "markdown",
      "metadata": {
        "id": "view-in-github",
        "colab_type": "text"
      },
      "source": [
        "<a href=\"https://colab.research.google.com/github/Ajay110125-A/google_colab/blob/main/Sample.ipynb\" target=\"_parent\"><img src=\"https://colab.research.google.com/assets/colab-badge.svg\" alt=\"Open In Colab\"/></a>"
      ]
    },
    {
      "cell_type": "code",
      "execution_count": null,
      "metadata": {
        "id": "WvDSxrNi-ia7"
      },
      "outputs": [],
      "source": [
        "from collections import Counter"
      ]
    },
    {
      "cell_type": "code",
      "source": [
        "s = 'axxb??'"
      ],
      "metadata": {
        "id": "qD8dDAEm-tj_"
      },
      "execution_count": null,
      "outputs": []
    },
    {
      "cell_type": "code",
      "source": [
        "def find_smallest_palindrome(s):\n",
        "    n = len(s)\n",
        "    counts = Counter(c for c in s if c != '?')\n",
        "    q_count = s.count('?')\n",
        "    odd_chars = [char for char, count in counts.items() if count % 2 != 0]\n",
        "\n",
        "    if len(odd_chars) > q_count % 2:\n",
        "        return \"-1\"\n",
        "\n",
        "    remaining_q = q_count\n",
        "    for char in odd_chars:\n",
        "        if remaining_q >= 1:\n",
        "            counts[char] += 1\n",
        "            remaining_q -= 1\n",
        "        else:\n",
        "            return \"-1\"\n",
        "\n",
        "    sorted_chars = sorted(counts.elements())\n",
        "    half_len = n // 2\n",
        "    first_half = []\n",
        "    middle = ''\n",
        "    second_half_reversed = []\n",
        "\n",
        "    temp_q = ['?'] * remaining_q\n",
        "    all_chars = sorted(list(sorted_chars) + temp_q)\n",
        "\n",
        "    q_index = 0\n",
        "    for char in all_chars:\n",
        "        if len(first_half) < half_len:\n",
        "            if char == '?':\n",
        "                if q_index + 1 < len(temp_q):\n",
        "                    first_half.append('a' + chr(ord('a') + q_index // 2))\n",
        "                    second_half_reversed.append('a' + chr(ord('a') + q_index // 2))\n",
        "                    q_index += 2\n",
        "                elif n % 2 == 1 and middle == '':\n",
        "                    middle = 'a' + chr(ord('a') + q_index // 2)\n",
        "                    q_index += 1\n",
        "                elif q_index < len(temp_q):\n",
        "                    first_half.append('a' + chr(ord('a') + q_index // 2))\n",
        "                    second_half_reversed.append('a' + chr(ord('a') + q_index // 2))\n",
        "                    q_index += 1\n",
        "\n",
        "            else:\n",
        "                first_half.append(char)\n",
        "                second_half_reversed.append(char)\n",
        "        elif n % 2 == 1 and middle == '' and char != '?':\n",
        "            middle = char\n",
        "        elif char != '?':\n",
        "            second_half_reversed.append(char)\n",
        "\n",
        "    first_half.sort()\n",
        "    second_half_reversed.sort(reverse=True)\n",
        "\n",
        "    palindrome = \"\".join(first_half) + middle + \"\".join(second_half_reversed)\n",
        "\n",
        "    check_counts = Counter(palindrome)\n",
        "    original_counts = Counter(s.replace('?', ''))\n",
        "    question_marks_used = 0\n",
        "    possible = True\n",
        "    for char, count in check_counts.items():\n",
        "        if char in original_counts:\n",
        "            diff = count - original_counts[char]\n",
        "            if diff > 0:\n",
        "                question_marks_used += diff\n",
        "        else:\n",
        "            question_marks_used += count\n",
        "\n",
        "    if question_marks_used != q_count:\n",
        "        return \"-1\"\n",
        "\n",
        "    reversed_palindrome = palindrome[::-1]\n",
        "    if palindrome == reversed_palindrome:\n",
        "        return palindrome\n",
        "    else:\n",
        "        return \"-1\""
      ],
      "metadata": {
        "id": "LrTPQIbW-454"
      },
      "execution_count": null,
      "outputs": []
    },
    {
      "cell_type": "code",
      "source": [
        "s = \"axxb??\"\n",
        "result = find_smallest_palindrome(s)\n"
      ],
      "metadata": {
        "id": "dzubeb2F_BJP"
      },
      "execution_count": null,
      "outputs": []
    },
    {
      "cell_type": "code",
      "source": [
        "result"
      ],
      "metadata": {
        "id": "qJEdMqWK_LG-",
        "outputId": "d7c4675a-4ff1-42ed-b811-54cd4047a199",
        "colab": {
          "base_uri": "https://localhost:8080/",
          "height": 35
        }
      },
      "execution_count": null,
      "outputs": [
        {
          "output_type": "execute_result",
          "data": {
            "text/plain": [
              "'-1'"
            ],
            "application/vnd.google.colaboratory.intrinsic+json": {
              "type": "string"
            }
          },
          "metadata": {},
          "execution_count": 6
        }
      ]
    },
    {
      "cell_type": "code",
      "source": [],
      "metadata": {
        "id": "jhWIMvCP_NJg"
      },
      "execution_count": null,
      "outputs": []
    }
  ]
}